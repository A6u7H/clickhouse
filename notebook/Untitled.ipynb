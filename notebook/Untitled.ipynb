{
 "cells": [
  {
   "cell_type": "code",
   "execution_count": 1,
   "id": "91bb2f80-4a1f-4f58-b6b2-d7e8168ad68f",
   "metadata": {},
   "outputs": [],
   "source": [
    "import json\n",
    "import os\n",
    "import bson\n",
    "import pandas as pd\n",
    "import numpy as np\n",
    "\n",
    "from clickhouse_driver import Client"
   ]
  },
  {
   "cell_type": "code",
   "execution_count": 2,
   "id": "92f89f17-6bcd-4f8b-81a9-f031c5d0c117",
   "metadata": {},
   "outputs": [
    {
     "name": "stderr",
     "output_type": "stream",
     "text": [
      "/tmp/ipykernel_555157/4293239321.py:1: DtypeWarning: Columns (0,8,14,20,21,22,28,29,30,32,69) have mixed types. Specify dtype option on import or set low_memory=False.\n",
      "  data = pd.read_csv(\"../data/en.openfoodfacts.org.products.csv\", sep=\"\\t\", nrows=50000)\n"
     ]
    }
   ],
   "source": [
    "data = pd.read_csv(\"../data/en.openfoodfacts.org.products.csv\", sep=\"\\t\", nrows=50000)\n",
    "data = data.drop(columns = list(data.select_dtypes(['object']).columns))\n",
    "data = data.dropna(axis=1, how='all')"
   ]
  },
  {
   "cell_type": "code",
   "execution_count": 3,
   "id": "ace04f5b-c768-43ba-92ec-bbc17573bfe0",
   "metadata": {
    "scrolled": true,
    "tags": []
   },
   "outputs": [
    {
     "data": {
      "text/plain": [
       "['created_t',\n",
       " 'last_modified_t',\n",
       " 'serving_quantity',\n",
       " 'additives_n',\n",
       " 'nutriscore_score',\n",
       " 'nova_group',\n",
       " 'ecoscore_score',\n",
       " 'product_quantity',\n",
       " 'unique_scans_n',\n",
       " 'completeness',\n",
       " 'last_image_t',\n",
       " 'energy-kj_100g',\n",
       " 'energy-kcal_100g',\n",
       " 'energy_100g',\n",
       " 'energy-from-fat_100g',\n",
       " 'fat_100g',\n",
       " 'saturated-fat_100g',\n",
       " 'monounsaturated-fat_100g',\n",
       " 'polyunsaturated-fat_100g',\n",
       " 'omega-3-fat_100g',\n",
       " 'omega-6-fat_100g',\n",
       " 'omega-9-fat_100g',\n",
       " 'trans-fat_100g',\n",
       " 'cholesterol_100g',\n",
       " 'carbohydrates_100g',\n",
       " 'sugars_100g',\n",
       " 'starch_100g',\n",
       " 'polyols_100g',\n",
       " 'fiber_100g',\n",
       " 'soluble-fiber_100g',\n",
       " 'insoluble-fiber_100g',\n",
       " 'proteins_100g',\n",
       " 'nucleotides_100g',\n",
       " 'salt_100g',\n",
       " 'sodium_100g',\n",
       " 'alcohol_100g',\n",
       " 'vitamin-a_100g',\n",
       " 'vitamin-d_100g',\n",
       " 'vitamin-e_100g',\n",
       " 'vitamin-k_100g',\n",
       " 'vitamin-c_100g',\n",
       " 'vitamin-b1_100g',\n",
       " 'vitamin-b2_100g',\n",
       " 'vitamin-pp_100g',\n",
       " 'vitamin-b6_100g',\n",
       " 'vitamin-b9_100g',\n",
       " 'folates_100g',\n",
       " 'vitamin-b12_100g',\n",
       " 'biotin_100g',\n",
       " 'pantothenic-acid_100g',\n",
       " 'bicarbonate_100g',\n",
       " 'potassium_100g',\n",
       " 'chloride_100g',\n",
       " 'calcium_100g',\n",
       " 'phosphorus_100g',\n",
       " 'iron_100g',\n",
       " 'magnesium_100g',\n",
       " 'zinc_100g',\n",
       " 'copper_100g',\n",
       " 'manganese_100g',\n",
       " 'selenium_100g',\n",
       " 'chromium_100g',\n",
       " 'molybdenum_100g',\n",
       " 'iodine_100g',\n",
       " 'caffeine_100g',\n",
       " 'ph_100g',\n",
       " 'fruits-vegetables-nuts_100g',\n",
       " 'fruits-vegetables-nuts-estimate_100g',\n",
       " 'fruits-vegetables-nuts-estimate-from-ingredients_100g',\n",
       " 'cocoa_100g',\n",
       " 'carbon-footprint-from-meat-or-fish_100g',\n",
       " 'nutrition-score-fr_100g',\n",
       " 'phylloquinone_100g']"
      ]
     },
     "execution_count": 3,
     "metadata": {},
     "output_type": "execute_result"
    }
   ],
   "source": [
    "list(data.columns)"
   ]
  },
  {
   "cell_type": "code",
   "execution_count": 4,
   "id": "97469df6-7550-4341-b031-d145251f932e",
   "metadata": {},
   "outputs": [
    {
     "data": {
      "text/plain": [
       "array([dtype('int64'), dtype('float64')], dtype=object)"
      ]
     },
     "execution_count": 4,
     "metadata": {},
     "output_type": "execute_result"
    }
   ],
   "source": [
    "np.unique([v for k, v in dict(data.dtypes).items()])"
   ]
  },
  {
   "cell_type": "code",
   "execution_count": 5,
   "id": "96410fe4-f8a2-4767-91f5-44f70d397b5b",
   "metadata": {},
   "outputs": [],
   "source": [
    "# dict(zip(columns_name_old, columns_name_new))"
   ]
  },
  {
   "cell_type": "code",
   "execution_count": 6,
   "id": "3b9b333e-6ce5-4ccf-9cf0-b9bac7caf931",
   "metadata": {},
   "outputs": [],
   "source": [
    "# data = data.fillna(0)\n",
    "columns_name_old = list(data.columns)\n",
    "columns_name_new = list(map(lambda x: x.replace(\"-\", \"_\"), columns_name_old))\n",
    "\n",
    "data = data.rename(columns=dict(zip(columns_name_old, columns_name_new)))"
   ]
  },
  {
   "cell_type": "code",
   "execution_count": 14,
   "id": "b9e29141-9880-4339-94e2-63257ad80436",
   "metadata": {},
   "outputs": [
    {
     "data": {
      "text/plain": [
       "[('INFORMATION_SCHEMA',), ('default',), ('information_schema',), ('system',)]"
      ]
     },
     "execution_count": 14,
     "metadata": {},
     "output_type": "execute_result"
    }
   ],
   "source": [
    "client = Client(host='localhost', port='9000')\n",
    "client.execute('SHOW DATABASES')"
   ]
  },
  {
   "cell_type": "code",
   "execution_count": 15,
   "id": "2d5b3802-2223-415f-88fd-52e19ba35336",
   "metadata": {
    "scrolled": true,
    "tags": []
   },
   "outputs": [],
   "source": [
    "table_name = \"Market\"\n",
    "query = f\"CREATE TABLE {table_name}\"\n",
    "\n",
    "\n",
    "columns = []\n",
    "for k, v in dict(data.dtypes).items():\n",
    "    if v == \"int64\":\n",
    "        v = \"Int64\"\n",
    "    elif v == \"object\":\n",
    "        v = \"String\"\n",
    "    elif v == \"float64\":\n",
    "        v = \"Float\"\n",
    "    columns.append(f\"{k} {v}\")\n",
    "columns_name = \", \".join(columns)\n",
    "columns_name = \"(\" + columns_name + \")\"\n",
    "query = query + columns_name + \" Engine = Memory\""
   ]
  },
  {
   "cell_type": "code",
   "execution_count": 25,
   "id": "6190c0e4-36c9-4006-965e-37360f48aca2",
   "metadata": {},
   "outputs": [],
   "source": [
    "from clickhouse_driver import Client\n",
    "\n",
    "\n",
    "client = Client(host='localhost')\n",
    "# client.execute(query)\n",
    "# client.execute(f\"INSERT INTO {table_name} VALUES\", data.to_dict('records'))"
   ]
  },
  {
   "cell_type": "code",
   "execution_count": 26,
   "id": "c71e86a5-af36-4d1c-b792-37746dd6ce8c",
   "metadata": {},
   "outputs": [],
   "source": [
    "data = client.execute(f\"SELECT * FROM {table_name}\")"
   ]
  },
  {
   "cell_type": "code",
   "execution_count": 15,
   "id": "b6399dd0-233b-4881-8578-9eff606e5327",
   "metadata": {},
   "outputs": [],
   "source": [
    "# data = pd.read_parquet(\"../experiments/market_data.parquet\")"
   ]
  },
  {
   "cell_type": "code",
   "execution_count": 8,
   "id": "e3bc2f8f-271a-4be7-9b14-e7f84d437c56",
   "metadata": {},
   "outputs": [],
   "source": [
    "from sklearn.cluster import KMeans\n",
    "\n",
    "model = KMeans(n_clusters=10)"
   ]
  },
  {
   "cell_type": "code",
   "execution_count": 9,
   "id": "7ea8e0ef-68dc-4b58-9594-21bf270cd86b",
   "metadata": {},
   "outputs": [
    {
     "data": {
      "text/html": [
       "<style>#sk-container-id-1 {color: black;background-color: white;}#sk-container-id-1 pre{padding: 0;}#sk-container-id-1 div.sk-toggleable {background-color: white;}#sk-container-id-1 label.sk-toggleable__label {cursor: pointer;display: block;width: 100%;margin-bottom: 0;padding: 0.3em;box-sizing: border-box;text-align: center;}#sk-container-id-1 label.sk-toggleable__label-arrow:before {content: \"▸\";float: left;margin-right: 0.25em;color: #696969;}#sk-container-id-1 label.sk-toggleable__label-arrow:hover:before {color: black;}#sk-container-id-1 div.sk-estimator:hover label.sk-toggleable__label-arrow:before {color: black;}#sk-container-id-1 div.sk-toggleable__content {max-height: 0;max-width: 0;overflow: hidden;text-align: left;background-color: #f0f8ff;}#sk-container-id-1 div.sk-toggleable__content pre {margin: 0.2em;color: black;border-radius: 0.25em;background-color: #f0f8ff;}#sk-container-id-1 input.sk-toggleable__control:checked~div.sk-toggleable__content {max-height: 200px;max-width: 100%;overflow: auto;}#sk-container-id-1 input.sk-toggleable__control:checked~label.sk-toggleable__label-arrow:before {content: \"▾\";}#sk-container-id-1 div.sk-estimator input.sk-toggleable__control:checked~label.sk-toggleable__label {background-color: #d4ebff;}#sk-container-id-1 div.sk-label input.sk-toggleable__control:checked~label.sk-toggleable__label {background-color: #d4ebff;}#sk-container-id-1 input.sk-hidden--visually {border: 0;clip: rect(1px 1px 1px 1px);clip: rect(1px, 1px, 1px, 1px);height: 1px;margin: -1px;overflow: hidden;padding: 0;position: absolute;width: 1px;}#sk-container-id-1 div.sk-estimator {font-family: monospace;background-color: #f0f8ff;border: 1px dotted black;border-radius: 0.25em;box-sizing: border-box;margin-bottom: 0.5em;}#sk-container-id-1 div.sk-estimator:hover {background-color: #d4ebff;}#sk-container-id-1 div.sk-parallel-item::after {content: \"\";width: 100%;border-bottom: 1px solid gray;flex-grow: 1;}#sk-container-id-1 div.sk-label:hover label.sk-toggleable__label {background-color: #d4ebff;}#sk-container-id-1 div.sk-serial::before {content: \"\";position: absolute;border-left: 1px solid gray;box-sizing: border-box;top: 0;bottom: 0;left: 50%;z-index: 0;}#sk-container-id-1 div.sk-serial {display: flex;flex-direction: column;align-items: center;background-color: white;padding-right: 0.2em;padding-left: 0.2em;position: relative;}#sk-container-id-1 div.sk-item {position: relative;z-index: 1;}#sk-container-id-1 div.sk-parallel {display: flex;align-items: stretch;justify-content: center;background-color: white;position: relative;}#sk-container-id-1 div.sk-item::before, #sk-container-id-1 div.sk-parallel-item::before {content: \"\";position: absolute;border-left: 1px solid gray;box-sizing: border-box;top: 0;bottom: 0;left: 50%;z-index: -1;}#sk-container-id-1 div.sk-parallel-item {display: flex;flex-direction: column;z-index: 1;position: relative;background-color: white;}#sk-container-id-1 div.sk-parallel-item:first-child::after {align-self: flex-end;width: 50%;}#sk-container-id-1 div.sk-parallel-item:last-child::after {align-self: flex-start;width: 50%;}#sk-container-id-1 div.sk-parallel-item:only-child::after {width: 0;}#sk-container-id-1 div.sk-dashed-wrapped {border: 1px dashed gray;margin: 0 0.4em 0.5em 0.4em;box-sizing: border-box;padding-bottom: 0.4em;background-color: white;}#sk-container-id-1 div.sk-label label {font-family: monospace;font-weight: bold;display: inline-block;line-height: 1.2em;}#sk-container-id-1 div.sk-label-container {text-align: center;}#sk-container-id-1 div.sk-container {/* jupyter's `normalize.less` sets `[hidden] { display: none; }` but bootstrap.min.css set `[hidden] { display: none !important; }` so we also need the `!important` here to be able to override the default hidden behavior on the sphinx rendered scikit-learn.org. See: https://github.com/scikit-learn/scikit-learn/issues/21755 */display: inline-block !important;position: relative;}#sk-container-id-1 div.sk-text-repr-fallback {display: none;}</style><div id=\"sk-container-id-1\" class=\"sk-top-container\"><div class=\"sk-text-repr-fallback\"><pre>KMeans(n_clusters=10)</pre><b>In a Jupyter environment, please rerun this cell to show the HTML representation or trust the notebook. <br />On GitHub, the HTML representation is unable to render, please try loading this page with nbviewer.org.</b></div><div class=\"sk-container\" hidden><div class=\"sk-item\"><div class=\"sk-estimator sk-toggleable\"><input class=\"sk-toggleable__control sk-hidden--visually\" id=\"sk-estimator-id-1\" type=\"checkbox\" checked><label for=\"sk-estimator-id-1\" class=\"sk-toggleable__label sk-toggleable__label-arrow\">KMeans</label><div class=\"sk-toggleable__content\"><pre>KMeans(n_clusters=10)</pre></div></div></div></div></div>"
      ],
      "text/plain": [
       "KMeans(n_clusters=10)"
      ]
     },
     "execution_count": 9,
     "metadata": {},
     "output_type": "execute_result"
    }
   ],
   "source": [
    "model.fit(data)"
   ]
  },
  {
   "cell_type": "code",
   "execution_count": 24,
   "id": "ccc6da34-0490-41bb-90eb-0bb3d7444009",
   "metadata": {},
   "outputs": [],
   "source": [
    "import pandas as pd\n",
    "from sklearn.datasets import load_iris\n",
    "from pyspark.sql import SparkSession\n",
    "\n",
    "from pyspark import SparkContext, SparkConf\n",
    "from pyspark.ml.clustering import KMeans\n",
    "\n",
    "df_iris = load_iris(as_frame=True)"
   ]
  },
  {
   "cell_type": "code",
   "execution_count": 25,
   "id": "61f529a5-67ba-4810-b077-32ddad49bdf8",
   "metadata": {},
   "outputs": [
    {
     "name": "stdout",
     "output_type": "stream",
     "text": [
      "23/01/08 15:59:14 WARN Utils: Your hostname, dkrivenkov resolves to a loopback address: 127.0.1.1; using 192.168.1.218 instead (on interface wlp146s0)\n",
      "23/01/08 15:59:14 WARN Utils: Set SPARK_LOCAL_IP if you need to bind to another address\n"
     ]
    },
    {
     "name": "stderr",
     "output_type": "stream",
     "text": [
      "Setting default log level to \"WARN\".\n",
      "To adjust logging level use sc.setLogLevel(newLevel). For SparkR, use setLogLevel(newLevel).\n"
     ]
    },
    {
     "name": "stdout",
     "output_type": "stream",
     "text": [
      "23/01/08 15:59:14 WARN NativeCodeLoader: Unable to load native-hadoop library for your platform... using builtin-java classes where applicable\n"
     ]
    }
   ],
   "source": [
    "config = SparkConf()\n",
    "sc = SparkContext(conf=config)\n",
    "spark = SparkSession(sc)"
   ]
  },
  {
   "cell_type": "code",
   "execution_count": 26,
   "id": "53b7c9cb-7d64-4c51-8657-4dbe732e0a8a",
   "metadata": {},
   "outputs": [],
   "source": [
    "pd_df_iris = pd.DataFrame(df_iris.data, columns = df_iris.feature_names)\n",
    "pd_df_iris['target'] = pd.Series(df_iris.target)"
   ]
  },
  {
   "cell_type": "code",
   "execution_count": 27,
   "id": "c9720336-7dde-42e1-909e-8288eff113a7",
   "metadata": {},
   "outputs": [
    {
     "name": "stderr",
     "output_type": "stream",
     "text": [
      "/home/dkrivenkov/anaconda3/envs/env39/lib/python3.9/site-packages/pyspark/sql/pandas/conversion.py:474: FutureWarning: iteritems is deprecated and will be removed in a future version. Use .items instead.\n",
      "  for column, series in pdf.iteritems():\n",
      "/home/dkrivenkov/anaconda3/envs/env39/lib/python3.9/site-packages/pyspark/sql/pandas/conversion.py:486: FutureWarning: iteritems is deprecated and will be removed in a future version. Use .items instead.\n",
      "  for column, series in pdf.iteritems():\n"
     ]
    }
   ],
   "source": [
    "spark_df_iris = spark.createDataFrame(pd_df_iris)\n",
    "spark_df_iris = spark_df_iris.drop(\"target\")"
   ]
  },
  {
   "cell_type": "code",
   "execution_count": 28,
   "id": "b0756eb7-07b2-4a55-a3f2-4242730f384d",
   "metadata": {},
   "outputs": [],
   "source": [
    "from pyspark.ml.feature import VectorAssembler\n",
    "assemble=VectorAssembler(inputCols=[\n",
    "'sepal length (cm)',\n",
    "'sepal width (cm)',\n",
    "'petal length (cm)',\n",
    "'petal width (cm)'],outputCol = 'iris_features')\n",
    "\n",
    "assembled_data=assemble.transform(spark_df_iris)"
   ]
  },
  {
   "cell_type": "code",
   "execution_count": 30,
   "id": "c3e09a5e-1082-43a0-92fb-f2ca563b0522",
   "metadata": {},
   "outputs": [
    {
     "name": "stderr",
     "output_type": "stream",
     "text": [
      "                                                                                \r"
     ]
    }
   ],
   "source": [
    "from pyspark.ml.clustering import KMeans\n",
    "from pyspark.ml.evaluation import ClusteringEvaluator\n",
    "\n",
    "KMeans_=KMeans(featuresCol='iris_features', k=10)\n",
    "\n",
    "KMeans_fit=KMeans_.fit(assembled_data)\n",
    "\n",
    "KMeans_transform=KMeans_fit.transform(assembled_data) "
   ]
  },
  {
   "cell_type": "code",
   "execution_count": 68,
   "id": "ca9694d5-7b06-46f4-bd84-9f9e1e0955fc",
   "metadata": {},
   "outputs": [],
   "source": [
    "d = KMeans_transform.toPandas()\n",
    "d[\"a\"] = KMeans_transform.select(\"prediction\").toPandas().values.flatten()"
   ]
  },
  {
   "cell_type": "code",
   "execution_count": 70,
   "id": "ed94084c-87e0-4656-adea-db99056f7287",
   "metadata": {},
   "outputs": [
    {
     "data": {
      "text/plain": [
       "sepal length (cm)    float64\n",
       "sepal width (cm)     float64\n",
       "petal length (cm)    float64\n",
       "petal width (cm)     float64\n",
       "iris_features         object\n",
       "prediction             int32\n",
       "a                      int32\n",
       "dtype: object"
      ]
     },
     "execution_count": 70,
     "metadata": {},
     "output_type": "execute_result"
    }
   ],
   "source": [
    "d.dtypes"
   ]
  },
  {
   "cell_type": "code",
   "execution_count": 65,
   "id": "90cdce86-814e-4248-8144-da1ae5e1dd3d",
   "metadata": {},
   "outputs": [
    {
     "data": {
      "text/plain": [
       "'5+1+1+1+5+5+1+5+1+1+5+1+1+1+5+5+5+5+5+5+5+5+1+5+1+1+5+5+5+1+1+5+5+5+1+1+5+5+1+5+5+1+1+5+5+1+5+1+5+1+4+4+4+0+4+0+4+6+4+0+6+0+0+4+0+4+0+0+4+0+4+0+4+4+4+4+4+4+4+0+0+0+0+4+0+4+4+4+0+0+0+4+0+6+0+0+0+4+6+0+7+4+8+9+7+2+0+8+9+8+7+9+7+4+9+7+9+3+2+4+7+4+2+4+7+8+4+4+9+8+8+3+9+4+9+2+7+9+4+7+7+7+4+7+7+7+4+9+7+4'"
      ]
     },
     "execution_count": 65,
     "metadata": {},
     "output_type": "execute_result"
    }
   ],
   "source": [
    "\"+\".join(map(str, KMeans_transform.select(\"prediction\").toPandas().values.flatten()))\n",
    "# KMeans_transform.select(\"prediction\").toPandas().values.flatten()"
   ]
  },
  {
   "cell_type": "code",
   "execution_count": 52,
   "id": "572e8144-372a-41a1-b0b8-282bb6b31c0e",
   "metadata": {},
   "outputs": [
    {
     "ename": "AttributeError",
     "evalue": "'function' object has no attribute 'map'",
     "output_type": "error",
     "traceback": [
      "\u001b[0;31m---------------------------------------------------------------------------\u001b[0m",
      "\u001b[0;31mAttributeError\u001b[0m                            Traceback (most recent call last)",
      "Cell \u001b[0;32mIn [52], line 2\u001b[0m\n\u001b[1;32m      1\u001b[0m \u001b[38;5;28mtype\u001b[39m(KMeans_transform)\n\u001b[0;32m----> 2\u001b[0m \u001b[43mKMeans_transform\u001b[49m\u001b[38;5;241;43m.\u001b[39;49m\u001b[43mselect\u001b[49m\u001b[43m(\u001b[49m\u001b[38;5;124;43m\"\u001b[39;49m\u001b[38;5;124;43mprediction\u001b[39;49m\u001b[38;5;124;43m\"\u001b[39;49m\u001b[43m)\u001b[49m\u001b[38;5;241;43m.\u001b[39;49m\u001b[43mcollect\u001b[49m\u001b[38;5;241;43m.\u001b[39;49m\u001b[43mmap\u001b[49m(_\u001b[38;5;241m.\u001b[39mgetDouble(\u001b[38;5;241m0\u001b[39m))\n",
      "\u001b[0;31mAttributeError\u001b[0m: 'function' object has no attribute 'map'"
     ]
    }
   ],
   "source": [
    "KMeans_transform.select(\"prediction\").collect.map(_.getDouble(0))"
   ]
  }
 ],
 "metadata": {
  "kernelspec": {
   "display_name": "Python (env39)",
   "language": "python",
   "name": "env39"
  },
  "language_info": {
   "codemirror_mode": {
    "name": "ipython",
    "version": 3
   },
   "file_extension": ".py",
   "mimetype": "text/x-python",
   "name": "python",
   "nbconvert_exporter": "python",
   "pygments_lexer": "ipython3",
   "version": "3.9.15"
  }
 },
 "nbformat": 4,
 "nbformat_minor": 5
}
